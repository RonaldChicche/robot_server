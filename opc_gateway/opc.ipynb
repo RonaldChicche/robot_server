{
 "cells": [
  {
   "cell_type": "code",
   "execution_count": 1,
   "id": "863692ac",
   "metadata": {},
   "outputs": [
    {
     "name": "stderr",
     "output_type": "stream",
     "text": [
      "cryptography is not installed, use of crypto disabled\n",
      "cryptography is not installed, use of crypto disabled\n"
     ]
    }
   ],
   "source": [
    "from opcua import Client\n",
    "\n",
    "# Dirección del servidor OPC UA (ajústala a tu servidor)\n",
    "url = \"opc.tcp://ronald_desk:62640/IntegrationObjects/ServerSimulator\"\n",
    "client = Client(url)"
   ]
  },
  {
   "cell_type": "code",
   "execution_count": 14,
   "id": "e6ea6ff6",
   "metadata": {},
   "outputs": [
    {
     "name": "stdout",
     "output_type": "stream",
     "text": [
      "🔌 Conectado al servidor OPC UA -> Timeout 3600000\n"
     ]
    }
   ],
   "source": [
    "# Timeout opcional antes de la conexión (en milisegundos)\n",
    "client.session_timeout = 3600000  # 60 segundos\n",
    "\n",
    "# Conectar\n",
    "client.connect()\n",
    "print(\"🔌 Conectado al servidor OPC UA -> Timeout\", client.session_timeout)"
   ]
  },
  {
   "cell_type": "code",
   "execution_count": 34,
   "id": "c01940ec",
   "metadata": {},
   "outputs": [
    {
     "name": "stdout",
     "output_type": "stream",
     "text": [
      "🔌 Desconectado del servidor OPC UA\n"
     ]
    }
   ],
   "source": [
    "# desconectar\n",
    "client.disconnect()\n",
    "print(\"🔌 Desconectado del servidor OPC UA\")"
   ]
  },
  {
   "cell_type": "code",
   "execution_count": 21,
   "id": "d1b55283",
   "metadata": {},
   "outputs": [
    {
     "name": "stdout",
     "output_type": "stream",
     "text": [
      "🌐 Nodo raíz: i=84\n",
      "├─ 0 → i=85, BrowseName: QualifiedName(0:Objects)\n",
      "├─ 1 → i=86, BrowseName: QualifiedName(0:Types)\n",
      "├─ 2 → i=87, BrowseName: QualifiedName(0:Views)\n"
     ]
    }
   ],
   "source": [
    "root = client.get_root_node()\n",
    "print(\"🌐 Nodo raíz:\", root)\n",
    "\n",
    "# Por ejemplo, mostrar hijos del nodo raíz\n",
    "children = root.get_children()\n",
    "for idx, child in enumerate(children):\n",
    "    print(f\"├─ {idx} → {child}, BrowseName: {child.get_browse_name()}\")\n"
   ]
  },
  {
   "cell_type": "code",
   "execution_count": 22,
   "id": "af3f9cb0",
   "metadata": {},
   "outputs": [
    {
     "name": "stdout",
     "output_type": "stream",
     "text": [
      "├─ 0 → i=2253, BrowseName: QualifiedName(0:Server)\n",
      "├─ 1 → ns=2;s=Historicaldata, BrowseName: QualifiedName(2:Historicaldata)\n",
      "├─ 2 → ns=2;s=MethodCalls, BrowseName: QualifiedName(2:MethodCalls)\n",
      "├─ 3 → ns=2;s=Realtimedata, BrowseName: QualifiedName(2:Realtimedata)\n"
     ]
    }
   ],
   "source": [
    "# Obtener el nodo \"Objects\"\n",
    "objects = client.get_node(\"i=85\")\n",
    "\n",
    "# Mostrar sus hijos\n",
    "children = objects.get_children()\n",
    "for idx, child in enumerate(children):\n",
    "    print(f\"├─ {idx} → {child}, BrowseName: {child.get_browse_name()}\")"
   ]
  },
  {
   "cell_type": "code",
   "execution_count": 24,
   "id": "4445bd49",
   "metadata": {},
   "outputs": [
    {
     "name": "stdout",
     "output_type": "stream",
     "text": [
      "├─ 0 → ns=2;s=Tag1, BrowseName: QualifiedName(2:Tag1)\n",
      "├─ 1 → ns=2;s=Tag2, BrowseName: QualifiedName(2:Tag2)\n",
      "├─ 2 → ns=2;s=Tag3, BrowseName: QualifiedName(2:Tag3)\n",
      "├─ 3 → ns=2;s=Tag4, BrowseName: QualifiedName(2:Tag4)\n",
      "├─ 4 → ns=2;s=Tag5, BrowseName: QualifiedName(2:Tag5)\n",
      "├─ 5 → ns=2;s=Tag6, BrowseName: QualifiedName(2:Tag6)\n",
      "├─ 6 → ns=2;s=Tag7, BrowseName: QualifiedName(2:Tag7)\n",
      "├─ 7 → ns=2;s=Tag8, BrowseName: QualifiedName(2:Tag8)\n",
      "├─ 8 → ns=2;s=Tag9, BrowseName: QualifiedName(2:Tag9)\n",
      "├─ 9 → ns=2;s=Tag10, BrowseName: QualifiedName(2:Tag10)\n",
      "├─ 10 → ns=2;s=Tag11, BrowseName: QualifiedName(2:Tag11)\n",
      "├─ 11 → ns=2;s=Tag12, BrowseName: QualifiedName(2:Tag12)\n",
      "├─ 12 → ns=2;s=Tag13, BrowseName: QualifiedName(2:Tag13)\n",
      "├─ 13 → ns=2;s=Tag14, BrowseName: QualifiedName(2:Tag14)\n",
      "├─ 14 → ns=2;s=Tag15, BrowseName: QualifiedName(2:Tag15)\n",
      "├─ 15 → ns=2;s=Tag_Read1, BrowseName: QualifiedName(2:Tag_Read1)\n",
      "├─ 16 → ns=2;s=Tag_Write1, BrowseName: QualifiedName(2:Tag_Write1)\n",
      "├─ 17 → ns=2;s=Tag16, BrowseName: QualifiedName(2:Tag16)\n",
      "├─ 18 → ns=2;s=Tag17, BrowseName: QualifiedName(2:Tag17)\n",
      "├─ 19 → ns=2;s=Tag18, BrowseName: QualifiedName(2:Tag18)\n",
      "├─ 20 → ns=2;s=Tag19, BrowseName: QualifiedName(2:Tag19)\n",
      "├─ 21 → ns=2;s=Tag20, BrowseName: QualifiedName(2:Tag20)\n",
      "├─ 22 → ns=2;s=Tag_Read2, BrowseName: QualifiedName(2:Tag_Read2)\n",
      "├─ 23 → ns=2;s=Tag_Write2, BrowseName: QualifiedName(2:Tag_Write2)\n"
     ]
    }
   ],
   "source": [
    "# Obtener el nodo \"Objects\"\n",
    "objects = client.get_node(\"ns=2;s=Realtimedata\")\n",
    "\n",
    "# Mostrar sus hijos\n",
    "children = objects.get_children()\n",
    "for idx, child in enumerate(children):\n",
    "    print(f\"├─ {idx} → {child}, BrowseName: {child.get_browse_name()}\")"
   ]
  },
  {
   "cell_type": "code",
   "execution_count": 29,
   "id": "557739c5",
   "metadata": {},
   "outputs": [
    {
     "name": "stdout",
     "output_type": "stream",
     "text": [
      "📊 Valor: 5.096773590973302e+25\n",
      "📊 Tipo: VariantType.Double\n",
      "📊 Nombre: Tag17\n",
      "📊 Clase: NodeClass.Variable\n",
      "🆔 NodeId: StringNodeId(ns=2;s=Tag17)\n",
      "🔖 BrowseName: QualifiedName(2:Tag17)\n",
      "📘 DisplayName: LocalizedText(Encoding:3, Locale:en, Text:Tag17)\n",
      "📦 DataType: VariantType.Double\n"
     ]
    }
   ],
   "source": [
    "node = client.get_node(\"ns=2;s=Tag17\")\n",
    "print(\"📊 Valor:\", node.get_value())\n",
    "print(\"📊 Tipo:\", node.get_data_type_as_variant_type())\n",
    "print(\"📊 Nombre:\", node.get_display_name().Text)\n",
    "print(\"📊 Clase:\", node.get_node_class())\n",
    "print(\"🆔 NodeId:\", node.nodeid)\n",
    "print(\"🔖 BrowseName:\", node.get_browse_name())\n",
    "print(\"📘 DisplayName:\", node.get_display_name())\n",
    "print(\"📦 DataType:\", node.get_data_type_as_variant_type())"
   ]
  },
  {
   "cell_type": "code",
   "execution_count": 33,
   "id": "1811fc09",
   "metadata": {},
   "outputs": [
    {
     "ename": "BadUserAccessDenied",
     "evalue": "\"User does not have permission to perform the requested operation.\"(BadUserAccessDenied)",
     "output_type": "error",
     "traceback": [
      "\u001b[1;31m---------------------------------------------------------------------------\u001b[0m",
      "\u001b[1;31mBadUserAccessDenied\u001b[0m                       Traceback (most recent call last)",
      "Cell \u001b[1;32mIn[33], line 3\u001b[0m\n\u001b[0;32m      1\u001b[0m \u001b[38;5;66;03m# write in a node\u001b[39;00m\n\u001b[0;32m      2\u001b[0m node \u001b[38;5;241m=\u001b[39m client\u001b[38;5;241m.\u001b[39mget_node(\u001b[38;5;124m\"\u001b[39m\u001b[38;5;124mns=2;s=Tag17\u001b[39m\u001b[38;5;124m\"\u001b[39m)\n\u001b[1;32m----> 3\u001b[0m \u001b[43mnode\u001b[49m\u001b[38;5;241;43m.\u001b[39;49m\u001b[43mset_value\u001b[49m\u001b[43m(\u001b[49m\u001b[38;5;241;43m1234\u001b[39;49m\u001b[43m)\u001b[49m\n\u001b[0;32m      4\u001b[0m \u001b[38;5;28mprint\u001b[39m(\u001b[38;5;124mf\u001b[39m\u001b[38;5;124m\"\u001b[39m\u001b[38;5;124m✅ Escrito 1234 en \u001b[39m\u001b[38;5;132;01m{\u001b[39;00mnode\u001b[38;5;241m.\u001b[39mnodeid\u001b[38;5;241m.\u001b[39mto_string()\u001b[38;5;132;01m}\u001b[39;00m\u001b[38;5;124m\"\u001b[39m)\n",
      "File \u001b[1;32mc:\\Users\\ronal\\miniconda3\\envs\\ntfy\\lib\\site-packages\\opcua\\common\\node.py:217\u001b[0m, in \u001b[0;36mNode.set_value\u001b[1;34m(self, value, varianttype)\u001b[0m\n\u001b[0;32m    215\u001b[0m     datavalue \u001b[38;5;241m=\u001b[39m ua\u001b[38;5;241m.\u001b[39mDataValue(ua\u001b[38;5;241m.\u001b[39mVariant(value, varianttype))\n\u001b[0;32m    216\u001b[0m     datavalue\u001b[38;5;241m.\u001b[39mSourceTimestamp \u001b[38;5;241m=\u001b[39m datetime\u001b[38;5;241m.\u001b[39mutcnow()\n\u001b[1;32m--> 217\u001b[0m \u001b[38;5;28;43mself\u001b[39;49m\u001b[38;5;241;43m.\u001b[39;49m\u001b[43mset_attribute\u001b[49m\u001b[43m(\u001b[49m\u001b[43mua\u001b[49m\u001b[38;5;241;43m.\u001b[39;49m\u001b[43mAttributeIds\u001b[49m\u001b[38;5;241;43m.\u001b[39;49m\u001b[43mValue\u001b[49m\u001b[43m,\u001b[49m\u001b[43m \u001b[49m\u001b[43mdatavalue\u001b[49m\u001b[43m)\u001b[49m\n",
      "File \u001b[1;32mc:\\Users\\ronal\\miniconda3\\envs\\ntfy\\lib\\site-packages\\opcua\\common\\node.py:263\u001b[0m, in \u001b[0;36mNode.set_attribute\u001b[1;34m(self, attributeid, datavalue)\u001b[0m\n\u001b[0;32m    261\u001b[0m params\u001b[38;5;241m.\u001b[39mNodesToWrite \u001b[38;5;241m=\u001b[39m [attr]\n\u001b[0;32m    262\u001b[0m result \u001b[38;5;241m=\u001b[39m \u001b[38;5;28mself\u001b[39m\u001b[38;5;241m.\u001b[39mserver\u001b[38;5;241m.\u001b[39mwrite(params)\n\u001b[1;32m--> 263\u001b[0m \u001b[43mresult\u001b[49m\u001b[43m[\u001b[49m\u001b[38;5;241;43m0\u001b[39;49m\u001b[43m]\u001b[49m\u001b[38;5;241;43m.\u001b[39;49m\u001b[43mcheck\u001b[49m\u001b[43m(\u001b[49m\u001b[43m)\u001b[49m\n",
      "File \u001b[1;32mc:\\Users\\ronal\\miniconda3\\envs\\ntfy\\lib\\site-packages\\opcua\\ua\\uatypes.py:218\u001b[0m, in \u001b[0;36mStatusCode.check\u001b[1;34m(self)\u001b[0m\n\u001b[0;32m    212\u001b[0m \u001b[38;5;250m\u001b[39m\u001b[38;5;124;03m\"\"\"\u001b[39;00m\n\u001b[0;32m    213\u001b[0m \u001b[38;5;124;03mRaises an exception if the status code is anything else than 0 (good).\u001b[39;00m\n\u001b[0;32m    214\u001b[0m \n\u001b[0;32m    215\u001b[0m \u001b[38;5;124;03mUse the is_good() method if you do not want an exception.\u001b[39;00m\n\u001b[0;32m    216\u001b[0m \u001b[38;5;124;03m\"\"\"\u001b[39;00m\n\u001b[0;32m    217\u001b[0m \u001b[38;5;28;01mif\u001b[39;00m \u001b[38;5;129;01mnot\u001b[39;00m \u001b[38;5;28mself\u001b[39m\u001b[38;5;241m.\u001b[39mis_good():\n\u001b[1;32m--> 218\u001b[0m     \u001b[38;5;28;01mraise\u001b[39;00m UaStatusCodeError(\u001b[38;5;28mself\u001b[39m\u001b[38;5;241m.\u001b[39mvalue)\n",
      "\u001b[1;31mBadUserAccessDenied\u001b[0m: \"User does not have permission to perform the requested operation.\"(BadUserAccessDenied)"
     ]
    }
   ],
   "source": [
    "# write in a node\n",
    "node = client.get_node(\"ns=2;s=Tag17\")\n",
    "node.set_value(1234)\n",
    "print(f\"✅ Escrito 1234 en {node.nodeid.to_string()}\")"
   ]
  },
  {
   "cell_type": "code",
   "execution_count": 32,
   "id": "06f597eb",
   "metadata": {},
   "outputs": [
    {
     "name": "stdout",
     "output_type": "stream",
     "text": [
      "✅ Lectura de -5.144572607715338e-34 en ns=2;s=Tag17\n"
     ]
    }
   ],
   "source": [
    "# read a node\n",
    "node = client.get_node(\"ns=2;s=Tag17\")\n",
    "value = node.get_value()\n",
    "print(f\"✅ Lectura de {value} en {node.nodeid.to_string()}\")"
   ]
  },
  {
   "cell_type": "code",
   "execution_count": null,
   "id": "28e7fa86",
   "metadata": {},
   "outputs": [],
   "source": []
  }
 ],
 "metadata": {
  "kernelspec": {
   "display_name": "ntfy",
   "language": "python",
   "name": "python3"
  },
  "language_info": {
   "codemirror_mode": {
    "name": "ipython",
    "version": 3
   },
   "file_extension": ".py",
   "mimetype": "text/x-python",
   "name": "python",
   "nbconvert_exporter": "python",
   "pygments_lexer": "ipython3",
   "version": "3.10.16"
  }
 },
 "nbformat": 4,
 "nbformat_minor": 5
}
