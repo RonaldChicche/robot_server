{
 "cells": [
  {
   "cell_type": "markdown",
   "id": "6b74fbf7",
   "metadata": {},
   "source": [
    "# Pruebas de Json"
   ]
  },
  {
   "cell_type": "code",
   "execution_count": 23,
   "id": "5b08f30d",
   "metadata": {},
   "outputs": [],
   "source": [
    "import socket\n",
    "import json\n"
   ]
  },
  {
   "cell_type": "code",
   "execution_count": 68,
   "id": "e670fc81",
   "metadata": {},
   "outputs": [
    {
     "name": "stdout",
     "output_type": "stream",
     "text": [
      "Programas encontrados: {\"dsID\":\"www.hc-system.com.RemoteMonitor\",\"packID\":\"0\",\"queryAddr\":[\"version\",\"curMold\"],\"queryData\":[\"HC-QC-RX-7.8.07-master-F5\"],\"reqType\":\"query\"}\n"
     ]
    }
   ],
   "source": [
    "\n",
    "ROBOT_IP = \"192.168.100.21\"\n",
    "PORT = 9760\n",
    "\n",
    "comando = {\n",
    "    \"dsID\": \"www.hc-system.com.RemoteMonitor\", #unique identification\n",
    "    \"reqType\": \"query\", \"packID\": \"0\", #packet ID sent is the same as reply, no reply\n",
    "    \"queryAddr\":[\"version\", \"curMold\"] #address array\n",
    " }\n",
    "\n",
    "with socket.socket(socket.AF_INET, socket.SOCK_STREAM) as s:\n",
    "    s.connect((ROBOT_IP, PORT))\n",
    "    s.sendall(json.dumps(comando).encode('utf-8'))\n",
    "    respuesta = s.recv(2048)\n",
    "    print(\"Programas encontrados:\", respuesta.decode())\n"
   ]
  },
  {
   "cell_type": "code",
   "execution_count": 8,
   "id": "8c813636",
   "metadata": {},
   "outputs": [
    {
     "name": "stdout",
     "output_type": "stream",
     "text": [
      "Programas encontrados: {\"cmdReply\":[\"rewriteDataList\",\"ok\"],\"dsID\":\"www.hc-system.com.RemoteMonitor\",\"packID\":\"45\",\"reqType\":\"command\"}\n"
     ]
    }
   ],
   "source": [
    "comando = {\n",
    "  \"dsID\": \"www.hc-system.com.RemoteMonitor\",\n",
    "  \"reqType\": \"command\",\n",
    "  \"packID\": \"45\",\n",
    "  \"cmdData\": [\n",
    "    \"rewriteDataList\",\n",
    "    \"800\",          # dirección inicial\n",
    "    \"6\",            # número de direcciones a escribir\n",
    "    \"1\",            # 1 = guardar en memoria, 0 = temporal\n",
    "    \"0\",       # ΔX = 100.000 mm\n",
    "    \"0\",            # ΔY = 0.000 mm\n",
    "    \"500000\",        # ΔZ = 500.000 mm\n",
    "    \"179\",            # ΔU = 0.000°\n",
    "    \"0\",            # ΔV = 0.000°\n",
    "    \"-90000\"         # ΔW = 90.000°\n",
    "  ]\n",
    "}\n",
    "\n",
    "with socket.socket(socket.AF_INET, socket.SOCK_STREAM) as s:\n",
    "    s.connect((ROBOT_IP, PORT))\n",
    "    s.sendall(json.dumps(comando).encode('utf-8'))\n",
    "    respuesta = s.recv(2048)\n",
    "    print(\"Programas encontrados:\", respuesta.decode())\n"
   ]
  },
  {
   "cell_type": "code",
   "execution_count": 14,
   "id": "66c6e9fc",
   "metadata": {},
   "outputs": [
    {
     "name": "stdout",
     "output_type": "stream",
     "text": [
      "Programas encontrados: {\"cmdReply\":[\"startButton\",\"ok\"],\"dsID\":\"www.hc-system.com.RemoteMonitor\",\"packID\":\"3\",\"reqType\":\"command\"}\n"
     ]
    }
   ],
   "source": [
    "comando = {\n",
    "  \"dsID\": \"www.hc-system.com.RemoteMonitor\",\n",
    "  \"reqType\": \"command\",\n",
    "  \"packID\": \"3\",\n",
    "  \"cmdData\": [\"startButton\"]\n",
    "}\n",
    "\n",
    "with socket.socket(socket.AF_INET, socket.SOCK_STREAM) as s:\n",
    "    s.connect((ROBOT_IP, PORT))\n",
    "    s.sendall(json.dumps(comando).encode('utf-8'))\n",
    "    respuesta = s.recv(2048)\n",
    "    print(\"Programas encontrados:\", respuesta.decode())\n"
   ]
  },
  {
   "cell_type": "code",
   "execution_count": 26,
   "id": "07381fa6",
   "metadata": {},
   "outputs": [
    {
     "name": "stdout",
     "output_type": "stream",
     "text": [
      "Programas encontrados: {\"dsID\":\"www.hc-system.com.RemoteMonitor\",\"packID\":\"0\",\"queryAddr\":[\"counterList\",\"counter-0\",\"counter-1\",\"counter-2\",\"counter-3\",\"counter-4\",\"counter-8\"],\"queryData\":[[\"4\",\"8\"],[4,0,373266],[8,0,366436]],\"reqType\":\"query\"}\n"
     ]
    }
   ],
   "source": [
    "comando = {\n",
    "  \"dsID\": \"www.hc-system.com.RemoteMonitor\",\n",
    "  \"reqType\": \"query\",\n",
    "  \"packID\": \"0\",\n",
    "  \"queryAddr\": [\n",
    "    \"counterList\",         # Lista de IDs de contadores\n",
    "    \"counter-0\",\n",
    "    \"counter-1\",           # Contador 1\n",
    "    \"counter-2\", \n",
    "    \"counter-3\",           # Contador 0: [ID, target, current]\n",
    "    \"counter-4\",           # Agrega más según necesidad\n",
    "    \"counter-8\"\n",
    "  ]\n",
    "}\n",
    "\n",
    "with socket.socket(socket.AF_INET, socket.SOCK_STREAM) as s:\n",
    "    s.connect((ROBOT_IP, PORT))\n",
    "    s.sendall(json.dumps(comando).encode('utf-8'))\n",
    "    respuesta = s.recv(2048)\n",
    "    print(\"Programas encontrados:\", respuesta.decode())\n"
   ]
  },
  {
   "cell_type": "code",
   "execution_count": 12,
   "id": "dc7ec921",
   "metadata": {},
   "outputs": [
    {
     "name": "stdout",
     "output_type": "stream",
     "text": [
      "Programas encontrados: {\"cmdReply\":[\"modifyCounter\",\"ok\"],\"dsID\":\"www.hc-system.com.RemoteMonitor\",\"packID\":\"20\",\"reqType\":\"command\"}\n"
     ]
    }
   ],
   "source": [
    "comando = {\n",
    "  \"dsID\": \"www.hc-system.com.RemoteMonitor\",\n",
    "  \"reqType\": \"command\",\n",
    "  \"packID\": \"20\",\n",
    "  \"cmdData\": [\"modifyCounter\", \"3\", \"4\", \"200\"]\n",
    "}\n",
    "\n",
    "\n",
    "with socket.socket(socket.AF_INET, socket.SOCK_STREAM) as s:\n",
    "    s.connect((ROBOT_IP, PORT))\n",
    "    s.sendall(json.dumps(comando).encode('utf-8'))\n",
    "    respuesta = s.recv(2048)\n",
    "    print(\"Programas encontrados:\", respuesta.decode())\n"
   ]
  },
  {
   "cell_type": "code",
   "execution_count": 29,
   "id": "9dd8b863",
   "metadata": {},
   "outputs": [
    {
     "name": "stdout",
     "output_type": "stream",
     "text": [
      "Programas encontrados: {\"dsID\":\"www.hc-system.com.RemoteMonitor\",\"packID\":\"900\",\"queryAddr\":[\"Addr-800\",\"Addr-801\",\"Addr-802\",\"Addr-803\",\"Addr-804\",\"Addr-805\"],\"queryData\":[\"0\",\"0\",\"-300000\",\"0\",\"0\",\"0\"],\"reqType\":\"query\"}\n"
     ]
    }
   ],
   "source": [
    "comando = {\n",
    "  \"dsID\": \"www.hc-system.com.RemoteMonitor\",\n",
    "  \"reqType\": \"query\",\n",
    "  \"packID\": \"900\",\n",
    "  \"queryAddr\": [\"Addr-800\", \"Addr-801\", \"Addr-802\", \"Addr-803\", \"Addr-804\", \"Addr-805\"]\n",
    "}\n",
    "\n",
    "\n",
    "\n",
    "with socket.socket(socket.AF_INET, socket.SOCK_STREAM) as s:\n",
    "    s.connect((ROBOT_IP, PORT))\n",
    "    s.sendall(json.dumps(comando).encode('utf-8'))\n",
    "    respuesta = s.recv(2048)\n",
    "    print(\"Programas encontrados:\", respuesta.decode())"
   ]
  },
  {
   "cell_type": "code",
   "execution_count": 25,
   "id": "def82e34",
   "metadata": {},
   "outputs": [
    {
     "name": "stdout",
     "output_type": "stream",
     "text": [
      "Programas encontrados: {\"cmdReply\":[\"rewriteData\",\"ok\"],\"dsID\":\"www.hc-system.com.RemoteMonitor\",\"packID\":\"1000\",\"reqType\":\"command\"}\n"
     ]
    }
   ],
   "source": [
    "comando = {\n",
    "  \"dsID\": \"www.hc-system.com.RemoteMonitor\",\n",
    "  \"reqType\": \"command\",\n",
    "  \"packID\": \"1000\",\n",
    "  \"cmdData\": [\"rewriteData\", \"800\", \"-456,754,826,179,0,-89\", \"1\"]\n",
    "}\n",
    "\n",
    "with socket.socket(socket.AF_INET, socket.SOCK_STREAM) as s:\n",
    "    s.connect((ROBOT_IP, PORT))\n",
    "    s.sendall(json.dumps(comando).encode('utf-8'))\n",
    "    respuesta = s.recv(2048)\n",
    "    print(\"Programas encontrados:\", respuesta.decode())\n"
   ]
  },
  {
   "cell_type": "code",
   "execution_count": 1,
   "id": "b6a94be7",
   "metadata": {},
   "outputs": [
    {
     "name": "stdout",
     "output_type": "stream",
     "text": [
      "Yolo\n"
     ]
    }
   ],
   "source": [
    "print('Yolo')"
   ]
  },
  {
   "cell_type": "markdown",
   "id": "620e2555",
   "metadata": {},
   "source": [
    "---\n",
    "\n",
    "# Modbus Pruebas "
   ]
  },
  {
   "cell_type": "code",
   "execution_count": 7,
   "id": "05844f49",
   "metadata": {},
   "outputs": [
    {
     "name": "stdout",
     "output_type": "stream",
     "text": [
      "Conexion: True\n"
     ]
    }
   ],
   "source": [
    "from ModbusTCPClient import ModbusTCPClient\n",
    "\n",
    "modbus = ModbusTCPClient(\n",
    "    ip=\"192.168.100.21\",\n",
    "    port=502,\n",
    "    name=\"1\"\n",
    ")\n",
    "\n",
    "respuesta = modbus.connect()\n",
    "#modbus.close()\n",
    "print(\"Conexion:\", respuesta)"
   ]
  },
  {
   "cell_type": "code",
   "execution_count": 124,
   "id": "79a80477",
   "metadata": {},
   "outputs": [
    {
     "name": "stdout",
     "output_type": "stream",
     "text": [
      "Response: [0, 0, 4, 37856, 0, 0, 0, 0, 0, 0, 0, 0]\n",
      "Lectura exitosa de Addr-800 a Addr-805:\n",
      "Addr-800 = 0 → 0.000\n",
      "Addr-801 = 300000 → 300.000\n",
      "Addr-802 = 0 → 0.000\n",
      "Addr-803 = 0 → 0.000\n",
      "Addr-804 = 0 → 0.000\n",
      "Addr-805 = 0 → 0.000\n"
     ]
    }
   ],
   "source": [
    "import struct\n",
    "\n",
    "START_ADDR = 21900          # Addr-800 = registro Modbus 21900\n",
    "NUM_ADDRS = 6               # 800 a 805\n",
    "\n",
    "response = modbus.read_holding_registers(address=START_ADDR, count=NUM_ADDRS * 2)\n",
    "print(\"Response:\", response)\n",
    "\n",
    "# Verificar si la lectura fue exitosa\n",
    "if response and isinstance(response, list):\n",
    "    print(\"Lectura exitosa de Addr-800 a Addr-805:\")\n",
    "    for i in range(NUM_ADDRS):\n",
    "        hi = response[i * 2]\n",
    "        lo = response[i * 2 + 1]\n",
    "        raw = struct.pack('>HH', hi, lo)\n",
    "        value = struct.unpack('>i', raw)[0]\n",
    "        print(f\"Addr-{800 + i} = {value} → {value / 1000:.3f}\")\n",
    "else:\n",
    "    print(\"❌ Error: respuesta inválida o vacía.\")"
   ]
  },
  {
   "cell_type": "code",
   "execution_count": null,
   "id": "177ce66a",
   "metadata": {},
   "outputs": [
    {
     "name": "stdout",
     "output_type": "stream",
     "text": [
      "Response: [0, 0, 0, 0, 0, 0, 0, 0, 0, 0, 0, 0, 0, 0, 0, 0, 0, 0, 4, 37856]\n",
      "Lectura exitosa de Addr-810 a Addr-819:\n",
      "Addr-810 = 0 → 0.000\n",
      "Addr-811 = 0 → 0.000\n",
      "Addr-812 = 0 → 0.000\n",
      "Addr-813 = 0 → 0.000\n",
      "Addr-814 = 0 → 0.000\n",
      "Addr-815 = 0 → 0.000\n",
      "Addr-816 = 0 → 0.000\n",
      "Addr-817 = 0 → 0.000\n",
      "Addr-818 = 0 → 0.000\n",
      "Addr-819 = 300000 → 300.000\n"
     ]
    }
   ],
   "source": [
    "import struct\n",
    "\n",
    "START_ADDR = 21920          # Addr-810 = registro Modbus 21920\n",
    "NUM_ADDRS = 10               # 810 a 809\n",
    "\n",
    "response = modbus.read_holding_registers(address=START_ADDR, count=NUM_ADDRS * 2)\n",
    "print(\"Response:\", response)\n",
    "\n",
    "# Verificar si la lectura fue exitosa\n",
    "if response and isinstance(response, list):\n",
    "    print(\"Lectura exitosa de Addr-810 a Addr-819:\")\n",
    "    for i in range(NUM_ADDRS):\n",
    "        hi = response[i * 2]\n",
    "        lo = response[i * 2 + 1]\n",
    "        raw = struct.pack('>HH', hi, lo)\n",
    "        value = struct.unpack('>i', raw)[0]\n",
    "        print(f\"Addr-{810 + i} = {value} → {value / 1000:.3f}\")\n",
    "else:\n",
    "    print(\"❌ Error: respuesta inválida o vacía.\")"
   ]
  },
  {
   "cell_type": "code",
   "execution_count": 59,
   "id": "ce11d392",
   "metadata": {},
   "outputs": [
    {
     "name": "stdout",
     "output_type": "stream",
     "text": [
      "Response Compensacion en X: True\n"
     ]
    }
   ],
   "source": [
    "START_ADDR = 21900  # Modbus address para Addr-800\n",
    "COMPENSA = 300\n",
    "\n",
    "# Valores reales a escribir (en mm o grados), escalados x1000\n",
    "valores_reales = [0, COMPENSA, 0, 0.0, 0.0, 0.0]  # X, Y, Z, U, V, W\n",
    "valores_escalados = [int(v * 1000) for v in valores_reales]\n",
    "\n",
    "# Convertir cada valor a 2 registros Modbus (16 bits cada uno)\n",
    "registros_modbus = []\n",
    "for val in valores_escalados:\n",
    "    high, low = struct.unpack('>HH', struct.pack('>i', val))\n",
    "    registros_modbus.extend([high, low])\n",
    "\n",
    "response = modbus.write_multiple_registers(address=START_ADDR, values=registros_modbus)\n",
    "print(\"Response Compensacion en X:\", response)\n",
    "\n"
   ]
  },
  {
   "cell_type": "code",
   "execution_count": null,
   "id": "17cf4f69",
   "metadata": {},
   "outputs": [
    {
     "name": "stdout",
     "output_type": "stream",
     "text": [
      "Response Compensacion en Z: True\n"
     ]
    }
   ],
   "source": [
    "START_ADDR = 21920  # Modbus address para Addr-810\n",
    "#OBJETO = 0\n",
    "COMPENSA = 300\n",
    "\n",
    "# 21900 -> 800\n",
    "# 21920 -> 810\n",
    "# 21940 -> 820\n",
    "# 21960 -> 830\n",
    "# 21980 -> 840\n",
    "# 22000 -> 850 \n",
    "# 22020 -> 860\n",
    "# 22040 -> 870\n",
    "# 22060 -> 880\n",
    "# 22080 -> 890\n",
    "\n",
    "\n",
    "# Valores reales a escribir (en mm o grados), escalados x1000\n",
    "valores_reales = [0, 0, 0, 0, 0, 0, 0, 0, 0, COMPENSA]  # X, Y, Z, U, V, W, m6, m7, Free, Free\n",
    "#valores_reales = [66, 39, 0, 0, 0, 0]  # X, Y, Z, U, V, W\n",
    "valores_escalados = [int(v * 1000) for v in valores_reales]\n",
    "\n",
    "# Convertir cada valor a 2 registros Modbus (16 bits cada uno)\n",
    "registros_modbus = []\n",
    "for val in valores_escalados:\n",
    "    high, low = struct.unpack('>HH', struct.pack('>i', val))\n",
    "    registros_modbus.extend([high, low])\n",
    "\n",
    "response = modbus.write_multiple_registers(address=START_ADDR, values=registros_modbus)\n",
    "print(\"Response Compensacion en Z:\", response)\n",
    "\n"
   ]
  },
  {
   "cell_type": "code",
   "execution_count": 169,
   "id": "21a0610f",
   "metadata": {},
   "outputs": [
    {
     "name": "stdout",
     "output_type": "stream",
     "text": [
      "Response: [0, 2000, 0, 0, 0, 0, 0, 0, 0, 0, 0, 0, 0, 0, 0, 0, 0, 0, 0, 0]\n",
      "Lectura exitosa de Addr-810 a Addr-819:\n",
      "Addr-810 = 2000 → 2.000\n",
      "Addr-811 = 0 → 0.000\n",
      "Addr-812 = 0 → 0.000\n",
      "Addr-813 = 0 → 0.000\n",
      "Addr-814 = 0 → 0.000\n",
      "Addr-815 = 0 → 0.000\n",
      "Addr-816 = 0 → 0.000\n",
      "Addr-817 = 0 → 0.000\n",
      "Addr-818 = 0 → 0.000\n",
      "Addr-819 = 0 → 0.000\n"
     ]
    }
   ],
   "source": [
    "START_ADDR = 22060          # Addr-810 = registro Modbus 21920\n",
    "NUM_ADDRS = 10               # 810 a 809\n",
    "\n",
    "response = modbus.read_holding_registers(address=START_ADDR, count=NUM_ADDRS * 2)\n",
    "print(\"Response:\", response)\n",
    "\n",
    "# Verificar si la lectura fue exitosa\n",
    "if response and isinstance(response, list):\n",
    "    print(\"Lectura exitosa de Addr-810 a Addr-819:\")\n",
    "    for i in range(NUM_ADDRS):\n",
    "        hi = response[i * 2]\n",
    "        lo = response[i * 2 + 1]\n",
    "        raw = struct.pack('>HH', hi, lo)\n",
    "        value = struct.unpack('>i', raw)[0]\n",
    "        print(f\"Addr-{810 + i} = {value} → {value / 1000:.3f}\")\n",
    "else:\n",
    "    print(\"❌ Error: respuesta inválida o vacía.\")"
   ]
  },
  {
   "cell_type": "code",
   "execution_count": 170,
   "id": "fe1de849",
   "metadata": {},
   "outputs": [
    {
     "name": "stdout",
     "output_type": "stream",
     "text": [
      "Response Compensacion en Z: True\n"
     ]
    }
   ],
   "source": [
    "START_ADDR = 22060  # Modbus address para Addr-880 al 89 para counters\n",
    "\n",
    "valores_reales = [4, 0, 0, 0, 0, 0, 0, 0, 0, 0]\n",
    "valores_escalados = [int(v * 1000) for v in valores_reales]\n",
    "\n",
    "# Convertir cada valor a 2 registros Modbus (16 bits cada uno)\n",
    "registros_modbus = []\n",
    "for val in valores_reales:\n",
    "    high, low = struct.unpack('>HH', struct.pack('>i', val))\n",
    "    registros_modbus.extend([high, low])\n",
    "\n",
    "response = modbus.write_multiple_registers(address=START_ADDR, values=registros_modbus)\n",
    "print(\"Response Compensacion en Z:\", response)\n",
    "\n"
   ]
  },
  {
   "cell_type": "code",
   "execution_count": 172,
   "id": "bf1d71d1",
   "metadata": {},
   "outputs": [
    {
     "name": "stdout",
     "output_type": "stream",
     "text": [
      "Response Start: True\n"
     ]
    }
   ],
   "source": [
    "# Start\n",
    "response = modbus.write_single_register(20003, 1)\n",
    "print(\"Response Start:\", response)"
   ]
  },
  {
   "cell_type": "code",
   "execution_count": 65,
   "id": "a68a31fd",
   "metadata": {},
   "outputs": [
    {
     "name": "stdout",
     "output_type": "stream",
     "text": [
      "Response: [400]\n"
     ]
    }
   ],
   "source": [
    "# read global speed\n",
    "# write\n",
    "response = modbus.write_single_register(20200, 400)\n",
    "response = modbus.read_holding_registers(address=20200, count=1)\n",
    "print(\"Response:\", response)"
   ]
  },
  {
   "cell_type": "code",
   "execution_count": 55,
   "id": "a6ee69b3",
   "metadata": {},
   "outputs": [
    {
     "name": "stdout",
     "output_type": "stream",
     "text": [
      "Response Start: True\n"
     ]
    }
   ],
   "source": [
    "# Stop\n",
    "response = modbus.write_single_register(20000, 1)\n",
    "print(\"Response Start:\", response)"
   ]
  },
  {
   "cell_type": "code",
   "execution_count": 28,
   "id": "2617a4d0",
   "metadata": {},
   "outputs": [
    {
     "name": "stdout",
     "output_type": "stream",
     "text": [
      "❌ Error escribiendo coils desde 12\n",
      "Response: False\n",
      "Response: None\n"
     ]
    }
   ],
   "source": [
    "# escribir sobre un coil de direccion 0 el valor 1\n",
    "\n",
    "response = modbus.write_coils(12, [1])\n",
    "print(\"Response:\", response)\n",
    "response = modbus.close()\n",
    "print(\"Response:\", response)\n"
   ]
  },
  {
   "cell_type": "code",
   "execution_count": 33,
   "id": "968d419c",
   "metadata": {},
   "outputs": [
    {
     "name": "stdout",
     "output_type": "stream",
     "text": [
      "Response: True\n"
     ]
    }
   ],
   "source": [
    "from pymodbus.client import ModbusTcpClient\n",
    "\n",
    "# definicion y conexion\n",
    "client = ModbusTcpClient(\"192.168.100.21\", port=502, name=\"1\")\n",
    "response = client.connect()\n",
    "print(\"Response:\", response)"
   ]
  },
  {
   "cell_type": "code",
   "execution_count": 36,
   "id": "8c03b858",
   "metadata": {},
   "outputs": [
    {
     "name": "stdout",
     "output_type": "stream",
     "text": [
      "Response: WriteSingleCoilResponse(dev_id=1, transaction_id=3, address=11, count=0, bits=[False], registers=[], status=1)\n",
      "Response: None\n"
     ]
    }
   ],
   "source": [
    "# write a coil\n",
    "response = client.write_coil(11, False)\n",
    "print(\"Response:\", response)\n",
    "response = client.close()\n",
    "print(\"Response:\", response)"
   ]
  },
  {
   "cell_type": "code",
   "execution_count": 35,
   "id": "d8160260",
   "metadata": {},
   "outputs": [
    {
     "name": "stdout",
     "output_type": "stream",
     "text": [
      "Response: WriteSingleRegisterResponse(dev_id=1, transaction_id=2, address=20003, count=0, bits=[], registers=[1], status=1)\n"
     ]
    }
   ],
   "source": [
    "# escribe en un registro de funcion 05 el valor 1 direccion 20000\n",
    "response = client.write_register(20003, 1)\n",
    "print(\"Response:\", response)\n",
    "# response = client.close()\n",
    "# print(\"Response:\", response)"
   ]
  },
  {
   "cell_type": "code",
   "execution_count": 10,
   "id": "ef69f5fd",
   "metadata": {},
   "outputs": [
    {
     "ename": "AttributeError",
     "evalue": "'list' object has no attribute 'isError'",
     "output_type": "error",
     "traceback": [
      "\u001b[31m---------------------------------------------------------------------------\u001b[39m",
      "\u001b[31mAttributeError\u001b[39m                            Traceback (most recent call last)",
      "\u001b[36mCell\u001b[39m\u001b[36m \u001b[39m\u001b[32mIn[10]\u001b[39m\u001b[32m, line 12\u001b[39m\n\u001b[32m      9\u001b[39m         \u001b[38;5;28;01mreturn\u001b[39;00m struct.unpack(\u001b[33m'\u001b[39m\u001b[33m>f\u001b[39m\u001b[33m'\u001b[39m, raw.to_bytes(\u001b[32m4\u001b[39m, byteorder=\u001b[33m'\u001b[39m\u001b[33mbig\u001b[39m\u001b[33m'\u001b[39m))[\u001b[32m0\u001b[39m]\n\u001b[32m     10\u001b[39m     \u001b[38;5;28;01mreturn\u001b[39;00m \u001b[38;5;28;01mNone\u001b[39;00m\n\u001b[32m---> \u001b[39m\u001b[32m12\u001b[39m x = \u001b[43mleer_float\u001b[49m\u001b[43m(\u001b[49m\u001b[32;43m2664\u001b[39;49m\u001b[43m)\u001b[49m\n\u001b[32m     13\u001b[39m y = leer_float(\u001b[32m2666\u001b[39m)\n\u001b[32m     14\u001b[39m z = leer_float(\u001b[32m2668\u001b[39m)\n",
      "\u001b[36mCell\u001b[39m\u001b[36m \u001b[39m\u001b[32mIn[10]\u001b[39m\u001b[32m, line 5\u001b[39m, in \u001b[36mleer_float\u001b[39m\u001b[34m(addr)\u001b[39m\n\u001b[32m      3\u001b[39m \u001b[38;5;28;01mdef\u001b[39;00m \u001b[34mleer_float\u001b[39m(addr):\n\u001b[32m      4\u001b[39m     rr = client.read_holding_registers(address=addr, count=\u001b[32m2\u001b[39m)\n\u001b[32m----> \u001b[39m\u001b[32m5\u001b[39m     \u001b[38;5;28;01mif\u001b[39;00m \u001b[38;5;129;01mnot\u001b[39;00m \u001b[43mrr\u001b[49m\u001b[43m.\u001b[49m\u001b[43misError\u001b[49m():\n\u001b[32m      6\u001b[39m         \u001b[38;5;66;03m# Unir dos registros Modbus (16 bits cada uno) → 32 bits\u001b[39;00m\n\u001b[32m      7\u001b[39m         raw = (rr.registers[\u001b[32m0\u001b[39m] << \u001b[32m16\u001b[39m) + rr.registers[\u001b[32m1\u001b[39m]\n\u001b[32m      8\u001b[39m         \u001b[38;5;66;03m# Convertir a float IEEE754\u001b[39;00m\n",
      "\u001b[31mAttributeError\u001b[39m: 'list' object has no attribute 'isError'"
     ]
    }
   ],
   "source": [
    "import struct \n",
    "\n",
    "def leer_float(addr):\n",
    "    rr = client.read_holding_registers(address=addr, count=2)\n",
    "    if not rr.isError():\n",
    "        # Unir dos registros Modbus (16 bits cada uno) → 32 bits\n",
    "        raw = (rr.registers[0] << 16) + rr.registers[1]\n",
    "        # Convertir a float IEEE754\n",
    "        return struct.unpack('>f', raw.to_bytes(4, byteorder='big'))[0]\n",
    "    return None\n",
    "\n",
    "x = leer_float(2664)\n",
    "y = leer_float(2666)\n",
    "z = leer_float(2668)\n",
    "client.close()\n",
    "\n",
    "print(f\"Posición: X={x:.3f}, Y={y:.3f}, Z={z:.3f}\")"
   ]
  },
  {
   "cell_type": "code",
   "execution_count": 8,
   "id": "37043c05",
   "metadata": {},
   "outputs": [],
   "source": [
    "def modbus_to_floats(registros):\n",
    "    \"\"\"\n",
    "    Convierte una lista de registros Modbus (16 bits) a float(s) IEEE 754.\n",
    "    Retorna un float si hay 2 registros, o una lista de floats si hay varios pares.\n",
    "    \"\"\"\n",
    "    if len(registros) % 2 != 0:\n",
    "        raise ValueError(\"La cantidad de registros debe ser par\")\n",
    "\n",
    "    floats = [\n",
    "        struct.unpack(\">f\", ((registros[i] << 16) + registros[i + 1]).to_bytes(4, byteorder='big'))[0]\n",
    "        for i in range(0, len(registros), 2)\n",
    "    ]\n",
    "\n",
    "    return floats[0] if len(floats) == 1 else floats"
   ]
  },
  {
   "cell_type": "code",
   "execution_count": null,
   "id": "61d6e802",
   "metadata": {},
   "outputs": [
    {
     "name": "stdout",
     "output_type": "stream",
     "text": [
      "Values : [1396.997314453125, 0.8216674327850342, 1324.526123046875, 0.00415573175996542, 90.0, 0.0, 0.0, 0.0]\n"
     ]
    }
   ],
   "source": [
    "# position \n",
    "rr = client.read_holding_registers(address=2664, count=16)\n",
    "# client.close()\n",
    "\n",
    "if rr.isError():\n",
    "    raise RuntimeError(\"❌ Error al leer registros Modbus\")\n",
    "\n",
    "values = modbus_to_floats(rr.registers)  # [X, Y, Z, U, V, W, M6, M7]\n",
    "# pretty print\n",
    "print(\"Values :\", values)"
   ]
  },
  {
   "cell_type": "code",
   "execution_count": 9,
   "id": "f6194d9b",
   "metadata": {},
   "outputs": [
    {
     "ename": "AttributeError",
     "evalue": "'list' object has no attribute 'registers'",
     "output_type": "error",
     "traceback": [
      "\u001b[31m---------------------------------------------------------------------------\u001b[39m",
      "\u001b[31mAttributeError\u001b[39m                            Traceback (most recent call last)",
      "\u001b[36mCell\u001b[39m\u001b[36m \u001b[39m\u001b[32mIn[9]\u001b[39m\u001b[32m, line 9\u001b[39m\n\u001b[32m      3\u001b[39m rr = client.read_holding_registers(address=\u001b[32m2600\u001b[39m, count=\u001b[32m16\u001b[39m)\n\u001b[32m      4\u001b[39m \u001b[38;5;66;03m# client.close()\u001b[39;00m\n\u001b[32m      5\u001b[39m \n\u001b[32m      6\u001b[39m \u001b[38;5;66;03m# if rr.isError():\u001b[39;00m\n\u001b[32m      7\u001b[39m \u001b[38;5;66;03m#     raise RuntimeError(\"❌ Error al leer registros Modbus\")\u001b[39;00m\n\u001b[32m----> \u001b[39m\u001b[32m9\u001b[39m values = modbus_to_floats(\u001b[43mrr\u001b[49m\u001b[43m.\u001b[49m\u001b[43mregisters\u001b[49m)  \u001b[38;5;66;03m# [X, Y, Z, U, V, W, M6, M7]\u001b[39;00m\n\u001b[32m     10\u001b[39m \u001b[38;5;66;03m# pretty print\u001b[39;00m\n\u001b[32m     11\u001b[39m \u001b[38;5;28mprint\u001b[39m(\u001b[33m\"\u001b[39m\u001b[33mValues :\u001b[39m\u001b[33m\"\u001b[39m, values)\n",
      "\u001b[31mAttributeError\u001b[39m: 'list' object has no attribute 'registers'"
     ]
    }
   ],
   "source": [
    "# axis\n",
    "\n",
    "rr = client.read_holding_registers(address=2600, count=16)\n",
    "# client.close()\n",
    "\n",
    "# if rr.isError():\n",
    "#     raise RuntimeError(\"❌ Error al leer registros Modbus\")\n",
    "\n",
    "values = modbus_to_floats(rr.registers)  # [X, Y, Z, U, V, W, M6, M7]\n",
    "# pretty print\n",
    "print(\"Values :\", values)"
   ]
  },
  {
   "cell_type": "code",
   "execution_count": 84,
   "id": "435e01c2",
   "metadata": {},
   "outputs": [
    {
     "name": "stdout",
     "output_type": "stream",
     "text": [
      "Values:  [284, 296, 309, 309, 296, 284, 284, 284]\n"
     ]
    }
   ],
   "source": [
    "# temperaturas\n",
    "rr = client.read_holding_registers(address=2568, count=8)\n",
    "#client.close()\n",
    "if rr.isError():\n",
    "    raise RuntimeError(\"❌ Error al leer registros simples\")\n",
    "values = rr.registers\n",
    "\n",
    "print(\"Values: \", values)\n"
   ]
  },
  {
   "cell_type": "code",
   "execution_count": 85,
   "id": "976aac78",
   "metadata": {},
   "outputs": [
    {
     "name": "stdout",
     "output_type": "stream",
     "text": [
      "Values:  [100]\n"
     ]
    }
   ],
   "source": [
    "# read only 1 register\n",
    "\n",
    "rr = client.read_holding_registers(address=20200, count=1)\n",
    "#client.close()\n",
    "if rr.isError():\n",
    "    raise RuntimeError(\"❌ Error al leer registros simples\")\n",
    "values = rr.registers\n",
    "\n",
    "print(\"Values: \", values)\n"
   ]
  },
  {
   "cell_type": "code",
   "execution_count": 104,
   "id": "5443c432",
   "metadata": {},
   "outputs": [
    {
     "name": "stdout",
     "output_type": "stream",
     "text": [
      "Values : [162, 142, 164, 1, 1, 56, 162, 162]\n"
     ]
    }
   ],
   "source": [
    "# axis velocity\n",
    "\n",
    "rr = client.read_holding_registers(address=2438, count=8)\n",
    "#client.close()\n",
    "if rr.isError():\n",
    "    raise RuntimeError(\"❌ Error al leer registros simples\")\n",
    "values = rr.registers  # [X, Y, Z, U, V, W, M6, M7]\n",
    "# pretty print\n",
    "print(\"Values :\", values)\n"
   ]
  },
  {
   "cell_type": "code",
   "execution_count": 2,
   "id": "70dcbdb0",
   "metadata": {},
   "outputs": [
    {
     "name": "stdout",
     "output_type": "stream",
     "text": [
      "coils\n",
      "registros\n"
     ]
    }
   ],
   "source": [
    "import os \n",
    "\n",
    "json_files = [f for f in os.listdir(\"config\") if f.endswith(\".json\")]\n",
    "for json_file in json_files:\n",
    "    if \"coils\" in json_file:\n",
    "        print(\"coils\")\n",
    "    if \"registros\" in json_file:\n",
    "        print(\"registros\")"
   ]
  },
  {
   "cell_type": "code",
   "execution_count": 3,
   "id": "9ee9a279",
   "metadata": {},
   "outputs": [
    {
     "name": "stdout",
     "output_type": "stream",
     "text": [
      "config/diccionario_coils.json\n"
     ]
    }
   ],
   "source": [
    "json_path = \"config/diccionario_coils.json\"\n",
    "if os.path.exists(json_path):\n",
    "    print(json_path)\n",
    "else:\n",
    "    print(f\"❌ No se pudo encontrar el archivo {json_path}\")"
   ]
  },
  {
   "cell_type": "code",
   "execution_count": 19,
   "id": "2a6e9215",
   "metadata": {},
   "outputs": [],
   "source": [
    "%load_ext autoreload\n",
    "%autoreload 2"
   ]
  },
  {
   "cell_type": "code",
   "execution_count": 1,
   "id": "13e7ec05",
   "metadata": {},
   "outputs": [
    {
     "name": "stdout",
     "output_type": "stream",
     "text": [
      "Conectado\n"
     ]
    }
   ],
   "source": [
    "from ModbusTCPClient import ModbusBorunteClient\n",
    "\n",
    "client = ModbusBorunteClient(ip=\"127.0.0.1\", port=502)\n",
    "\n",
    "if client.connect():\n",
    "    print(\"Conectado\")\n",
    "    #client.close()\n",
    "else:\n",
    "    print(\"❌ No se pudo conectar\")"
   ]
  },
  {
   "cell_type": "code",
   "execution_count": 24,
   "id": "7b0d3f65",
   "metadata": {},
   "outputs": [
    {
     "name": "stdout",
     "output_type": "stream",
     "text": [
      "Response: True\n"
     ]
    }
   ],
   "source": [
    "response = client.write_coils(11, [1, 0, 0])\n",
    "print(\"Response:\", response)"
   ]
  },
  {
   "cell_type": "code",
   "execution_count": 7,
   "id": "7598ec60",
   "metadata": {},
   "outputs": [
    {
     "name": "stdout",
     "output_type": "stream",
     "text": [
      "Values:  {'800': 45, '801': -500, '802': 89, '803': 406198326, '804': 406198326, '805': 406198326, '806': 406198326, '807': 406198326}\n"
     ]
    }
   ],
   "source": [
    "\n",
    "values = client.read_memory_address(800, 8)\n",
    "print(\"Values: \", values)\n"
   ]
  },
  {
   "cell_type": "code",
   "execution_count": 4,
   "id": "330b5225",
   "metadata": {},
   "outputs": [
    {
     "name": "stdout",
     "output_type": "stream",
     "text": [
      "Entero con signo: 406198326\n"
     ]
    }
   ],
   "source": [
    "import struct\n",
    "\n",
    "\n",
    "hex_value = 0x18361836\n",
    "bytes_val = hex_value.to_bytes(4, byteorder='big')\n",
    "signed_value = struct.unpack('>i', bytes_val)[0]\n",
    "\n",
    "print(\"Entero con signo:\", signed_value)"
   ]
  },
  {
   "cell_type": "code",
   "execution_count": 56,
   "id": "09b49d57",
   "metadata": {},
   "outputs": [
    {
     "name": "stdout",
     "output_type": "stream",
     "text": [
      "Rgistros:  [65535, 20536, 0, 0, 0, 30]\n",
      "Response Compensacion en Z: True\n"
     ]
    }
   ],
   "source": [
    "START_ADDR = 21900  # Modbus address para Addr-880 al 89 para counters\n",
    "\n",
    "valores_reales = [-45000, 0, 30]\n",
    "#valores_escalados = [int(v * 1000) for v in valores_reales]\n",
    "\n",
    "# Convertir cada valor a 2 registros Modbus (16 bits cada uno)\n",
    "registros_modbus = []\n",
    "for val in valores_reales:\n",
    "    high, low = struct.unpack('>HH', struct.pack('>i', val))\n",
    "    registros_modbus.extend([high, low])\n",
    "\n",
    "print(\"Rgistros: \", registros_modbus)\n",
    "\n",
    "response = client.write_multiple_registers(address=START_ADDR, values=registros_modbus)\n",
    "print(\"Response Compensacion en Z:\", response)\n"
   ]
  },
  {
   "cell_type": "code",
   "execution_count": 6,
   "id": "ed9b9b12",
   "metadata": {},
   "outputs": [
    {
     "name": "stdout",
     "output_type": "stream",
     "text": [
      "Response Compensacion en Z: True\n"
     ]
    }
   ],
   "source": [
    "response = client.write_memory_address(800, [45, -500, 89])\n",
    "print(\"Response Compensacion en Z:\", response)"
   ]
  },
  {
   "cell_type": "code",
   "execution_count": 3,
   "id": "e2f0b656",
   "metadata": {},
   "outputs": [
    {
     "name": "stdout",
     "output_type": "stream",
     "text": [
      "{'movement_status': {'access': 'R', 'address': 2470, 'double_bit': False, 'length': 1, 'description': '0 -> No se mueve, 1 -> Se mueve'}, 'home_status': {'access': 'R', 'address': 2471, 'double_bit': False, 'length': 1, 'description': '1 -> Homed, 0 -> No homed'}, 'global_velocity': {'access': 'RW', 'address': 20200, 'double_bit': False, 'length': 1, 'description': 'Velocidad global de la secuencia de ejecución 0 -> 1000 : 1000 = 100% / default 100'}, 'axis_temperature': {'access': 'R', 'address': 2568, 'double_bit': False, 'length': 8, 'description': 'Temperatura del robot J1 J2 J3 J4 J5 J6 J7 J8 Units ????'}, 'axis_position': {'access': 'R', 'address': 2600, 'double_bit': True, 'length': 16, 'description': 'Posicion del robot J1 J2 J3 J4 J5 J6 J7 J8 sexagesimal degrees'}, 'world_position': {'access': 'R', 'address': 2664, 'double_bit': True, 'length': 16, 'description': 'Posicion del robot en el mundo, X Y Z U V W M7 M8 mm'}, 'axis_velocity': {'access': 'R', 'address': 2438, 'double_bit': False, 'length': 8, 'description': 'Velocidad actual del robot J1 J2 J3 J4 J5 J6 J7 J8 mm/s'}, 'axis_torque': {'access': 'R', 'address': 2406, 'double_bit': False, 'length': 8, 'description': 'Torque del robot J1 J2 J3 J4 J5 J6 J7 J8 Nm'}}\n",
      "movement_status\n",
      "home_status\n",
      "global_velocity\n",
      "axis_temperature\n",
      "axis_position\n",
      "world_position\n",
      "axis_velocity\n",
      "axis_torque\n"
     ]
    }
   ],
   "source": [
    "print(client.registers[\"machine_status\"])\n",
    "for key in client.registers[\"machine_status\"]:\n",
    "    print(key)"
   ]
  },
  {
   "cell_type": "code",
   "execution_count": 2,
   "id": "2c19df2d",
   "metadata": {},
   "outputs": [
    {
     "name": "stdout",
     "output_type": "stream",
     "text": [
      "{'movement_status': [6198], 'home_status': [6198], 'global_velocity': [6198], 'axis_temperature': [6198, 6198, 6198, 6198, 6198, 6198, 6198, 6198], 'axis_position': [2.3535172069203124e-24, 2.3535172069203124e-24, 2.3535172069203124e-24, 2.3535172069203124e-24, 2.3535172069203124e-24, 2.3535172069203124e-24, 2.3535172069203124e-24, 2.3535172069203124e-24], 'world_position': [2.3535172069203124e-24, 2.3535172069203124e-24, 2.3535172069203124e-24, 2.3535172069203124e-24, 2.3535172069203124e-24, 2.3535172069203124e-24, 2.3535172069203124e-24, 2.3535172069203124e-24], 'axis_velocity': [6198, 6198, 6198, 6198, 6198, 6198, 6198, 6198], 'axis_torque': [6198, 6198, 6198, 6198, 6198, 6198, 6198, 6198]}\n"
     ]
    }
   ],
   "source": [
    "result = client.read_all_status()\n",
    "print(result)"
   ]
  },
  {
   "cell_type": "code",
   "execution_count": 10,
   "id": "40df61b3",
   "metadata": {},
   "outputs": [
    {
     "name": "stdout",
     "output_type": "stream",
     "text": [
      "Registros Modbus originales: 0x1836, 0x1836\n"
     ]
    }
   ],
   "source": [
    "value = 2.3535172069203124e-24\n",
    "packed = struct.pack('>f', value)\n",
    "hi, lo = struct.unpack('>HH', packed)\n",
    "print(f\"Registros Modbus originales: {hi:#06x}, {lo:#06x}\")"
   ]
  },
  {
   "cell_type": "code",
   "execution_count": 20,
   "id": "b555ae1b",
   "metadata": {},
   "outputs": [
    {
     "name": "stdout",
     "output_type": "stream",
     "text": [
      "Response: {'y': {'access': 'RW', 'addresses': {'y10': 0, 'y11': 1, 'y12': 2, 'y13': 3, 'y14': 4, 'y15': 5, 'y16': 6, 'y17': 7, 'y20': 8, 'y21': 9, 'y22': 10, 'y23': 11, 'y24': 12, 'y25': 13, 'y26': 14, 'y27': 15, 'y30': 16, 'y31': 17, 'y32': 18, 'y33': 19, 'y34': 20, 'y35': 21, 'y36': 22, 'y37': 23, 'y40': 24, 'y41': 25, 'y42': 26, 'y43': 27, 'y44': 28, 'y45': 29, 'y46': 30, 'y47': 31}}, 'm': {'feature': 'm', 'access': 'RW', 'addresses': {'m10': 160, 'm11': 161, 'm12': 162, 'm13': 163, 'm14': 164, 'm15': 165, 'm16': 166, 'm17': 167, 'm20': 168, 'm21': 169, 'm22': 170, 'm23': 171, 'm24': 172, 'm25': 173, 'm26': 174, 'm27': 175, 'm30': 176, 'm31': 177, 'm32': 178, 'm33': 179, 'm34': 180, 'm35': 181, 'm36': 182, 'm37': 183, 'm40': 184, 'm41': 185, 'm42': 186, 'm43': 187, 'm44': 188, 'm45': 189, 'm46': 190, 'm47': 191, 'm110': 192, 'm111': 193, 'm112': 194, 'm113': 195, 'm114': 196, 'm115': 197, 'm116': 198, 'm117': 199, 'm120': 200, 'm121': 201, 'm122': 202, 'm123': 203, 'm124': 204, 'm125': 205, 'm126': 206, 'm127': 207, 'm130': 208, 'm131': 209, 'm132': 210, 'm133': 211, 'm134': 212, 'm135': 213, 'm136': 214, 'm137': 215, 'm140': 216, 'm141': 217, 'm142': 218, 'm143': 219, 'm144': 220, 'm145': 221, 'm146': 222, 'm147': 223}}, 'euy': {'feature': 'euy', 'access': 'RW', 'addresses': {'euy10': 256, 'euy11': 257, 'euy12': 258, 'euy13': 259, 'euy14': 260, 'euy15': 261, 'euy16': 262, 'euy17': 263, 'euy20': 264, 'euy21': 265, 'euy22': 266, 'euy23': 267, 'euy24': 268, 'euy25': 269, 'euy26': 270, 'euy27': 271, 'euy30': 272, 'euy31': 273, 'euy32': 274, 'euy33': 275, 'euy34': 276, 'euy35': 277, 'euy36': 278, 'euy37': 279, 'euy40': 280, 'euy41': 281, 'euy42': 282, 'euy43': 283, 'euy44': 284, 'euy45': 285, 'euy46': 286, 'euy47': 287}}}\n",
      "Letras: y\n",
      "Números: 27\n",
      "addr: 15\n"
     ]
    }
   ],
   "source": [
    "import re \n",
    "\n",
    "# get coils\n",
    "coil = 'Y27'\n",
    "coil = coil.lower()\n",
    "response = client.coils\n",
    "print(\"Response:\", response)\n",
    "\n",
    "letters = ''.join(re.findall(r'[A-Za-z]', coil))\n",
    "numbers = ''.join(re.findall(r'\\d', coil))\n",
    "\n",
    "print(\"Letras:\", letters)   # euy\n",
    "print(\"Números:\", numbers) # 30\n",
    "\n",
    "address = client.coils[letters][\"addresses\"][coil]\n",
    "print(\"addr:\", address)"
   ]
  },
  {
   "cell_type": "code",
   "execution_count": 3,
   "id": "e1bdccdb",
   "metadata": {},
   "outputs": [
    {
     "name": "stdout",
     "output_type": "stream",
     "text": [
      "dict_keys(['y', 'm', 'euy'])\n",
      "y 0 32\n",
      "m 160 64\n",
      "euy 256 32\n",
      "{'y': {'y10': True, 'y11': True, 'y12': True, 'y13': True, 'y14': True, 'y15': True, 'y16': True, 'y17': True, 'y20': True, 'y21': True, 'y22': True, 'y23': True, 'y24': False, 'y25': False, 'y26': True, 'y27': True, 'y30': True, 'y31': True, 'y32': True, 'y33': True, 'y34': True, 'y35': True, 'y36': True, 'y37': True, 'y40': True, 'y41': True, 'y42': True, 'y43': True, 'y44': True, 'y45': True, 'y46': True, 'y47': True}, 'm': {'m10': True, 'm11': True, 'm12': True, 'm13': True, 'm14': True, 'm15': True, 'm16': True, 'm17': True, 'm20': True, 'm21': True, 'm22': True, 'm23': True, 'm24': True, 'm25': True, 'm26': True, 'm27': True, 'm30': True, 'm31': True, 'm32': True, 'm33': True, 'm34': True, 'm35': True, 'm36': True, 'm37': True, 'm40': True, 'm41': True, 'm42': True, 'm43': True, 'm44': True, 'm45': True, 'm46': True, 'm47': True, 'm110': True, 'm111': True, 'm112': True, 'm113': True, 'm114': True, 'm115': True, 'm116': True, 'm117': True, 'm120': True, 'm121': True, 'm122': True, 'm123': True, 'm124': True, 'm125': True, 'm126': True, 'm127': True, 'm130': True, 'm131': True, 'm132': True, 'm133': True, 'm134': True, 'm135': True, 'm136': True, 'm137': True, 'm140': True, 'm141': True, 'm142': True, 'm143': True, 'm144': True, 'm145': True, 'm146': True, 'm147': True}, 'euy': {'euy10': True, 'euy11': True, 'euy12': True, 'euy13': True, 'euy14': True, 'euy15': True, 'euy16': True, 'euy17': True, 'euy20': True, 'euy21': True, 'euy22': True, 'euy23': True, 'euy24': True, 'euy25': True, 'euy26': True, 'euy27': True, 'euy30': True, 'euy31': True, 'euy32': True, 'euy33': True, 'euy34': True, 'euy35': True, 'euy36': True, 'euy37': True, 'euy40': True, 'euy41': True, 'euy42': True, 'euy43': True, 'euy44': True, 'euy45': True, 'euy46': True, 'euy47': True}}\n"
     ]
    }
   ],
   "source": [
    "keys = client.coils.keys()\n",
    "print(keys)\n",
    "result = {}\n",
    "for key in keys:\n",
    "    mem_addr = list(client.coils[key][\"addresses\"].keys())\n",
    "    start_address = client.coils[key][\"addresses\"][mem_addr[0]]\n",
    "    count = len(mem_addr)\n",
    "    print(key, start_address, count)\n",
    "    values = client.read_coils(start_address, count)\n",
    "    # create dictionary with mem_addr as key and values as value\n",
    "    sub_result = dict(zip(mem_addr, values))\n",
    "    \n",
    "    result[key] = sub_result\n",
    "\n",
    "print(result)"
   ]
  },
  {
   "cell_type": "markdown",
   "id": "aa758e49",
   "metadata": {},
   "source": [
    "---\n",
    "# Pruebas de Clase "
   ]
  },
  {
   "cell_type": "code",
   "execution_count": 15,
   "id": "2048826b",
   "metadata": {},
   "outputs": [
    {
     "name": "stdout",
     "output_type": "stream",
     "text": [
      "Conection: True\n"
     ]
    }
   ],
   "source": [
    "from ModbusTCPClient import ModbusBorunteClient\n",
    "\n",
    "client = ModbusBorunteClient(ip=\"192.168.100.21\")\n",
    "\n",
    "# Conexion\n",
    "respuesta = client.connect()\n",
    "\n",
    "print(\"Conection:\", respuesta)"
   ]
  },
  {
   "cell_type": "code",
   "execution_count": 2,
   "id": "fa53deec",
   "metadata": {},
   "outputs": [
    {
     "name": "stdout",
     "output_type": "stream",
     "text": [
      "Status: {'movement_status': [0], 'home_status': [1], 'global_velocity': [100], 'axis_temperature': [259, 260, 255, 255, 260, 259, 259, 259], 'axis_position': [0.028540614992380142, 28.311674118041992, -34.68598556518555, 0.015405723825097084, -82.8205795288086, 0.018455125391483307, -0.0, 0.0], 'world_position': [1500.035400390625, -125.6329116821289, 1461.035400390625, 179.98443603515625, 0.8051218390464783, -179.99183654785156, 0.0, 0.0], 'axis_velocity': [0, 0, 0, 0, 0, 0, 0, 0], 'axis_torque': [0, 0, 0, 0, 0, 0, 0, 0]}\n"
     ]
    }
   ],
   "source": [
    "# read all status\n",
    "response = client.read_all_status()\n",
    "print(\"Status:\", response)"
   ]
  },
  {
   "cell_type": "code",
   "execution_count": 6,
   "id": "7ece31ad",
   "metadata": {},
   "outputs": [
    {
     "name": "stdout",
     "output_type": "stream",
     "text": [
      "Response: True\n",
      "Response: [900]\n"
     ]
    }
   ],
   "source": [
    "# Change global velocity\n",
    "response = client.modify_global_velocity(900)\n",
    "print(\"Response:\", response)\n",
    "# read velocity\n",
    "response = client.read_global_velocity()\n",
    "print(\"Response:\", response)"
   ]
  },
  {
   "cell_type": "code",
   "execution_count": 3,
   "id": "1391f47f",
   "metadata": {},
   "outputs": [
    {
     "name": "stdout",
     "output_type": "stream",
     "text": [
      "Outputs: {'y': {'y10': False, 'y11': True, 'y12': False, 'y13': False, 'y14': False, 'y15': False, 'y16': False, 'y17': False, 'y20': False, 'y21': False, 'y22': False, 'y23': False, 'y24': False, 'y25': False, 'y26': False, 'y27': False, 'y30': False, 'y31': False, 'y32': False, 'y33': False, 'y34': False, 'y35': False, 'y36': False, 'y37': False, 'y40': False, 'y41': False, 'y42': False, 'y43': False, 'y44': False, 'y45': False, 'y46': False, 'y47': False}, 'm': {'m10': False, 'm11': False, 'm12': False, 'm13': False, 'm14': False, 'm15': False, 'm16': False, 'm17': False, 'm20': False, 'm21': False, 'm22': False, 'm23': False, 'm24': False, 'm25': False, 'm26': False, 'm27': False, 'm30': False, 'm31': True, 'm32': False, 'm33': False, 'm34': False, 'm35': False, 'm36': False, 'm37': False, 'm40': False, 'm41': False, 'm42': False, 'm43': False, 'm44': False, 'm45': False, 'm46': False, 'm47': False, 'm110': False, 'm111': False, 'm112': False, 'm113': False, 'm114': False, 'm115': False, 'm116': False, 'm117': False, 'm120': False, 'm121': False, 'm122': False, 'm123': False, 'm124': False, 'm125': False, 'm126': False, 'm127': False, 'm130': False, 'm131': False, 'm132': False, 'm133': False, 'm134': False, 'm135': False, 'm136': False, 'm137': False, 'm140': False, 'm141': False, 'm142': False, 'm143': False, 'm144': False, 'm145': False, 'm146': False, 'm147': False}, 'euy': {'euy10': False, 'euy11': False, 'euy12': False, 'euy13': False, 'euy14': False, 'euy15': False, 'euy16': False, 'euy17': False, 'euy20': False, 'euy21': False, 'euy22': False, 'euy23': False, 'euy24': False, 'euy25': False, 'euy26': False, 'euy27': False, 'euy30': False, 'euy31': False, 'euy32': False, 'euy33': False, 'euy34': False, 'euy35': False, 'euy36': False, 'euy37': False, 'euy40': False, 'euy41': False, 'euy42': False, 'euy43': False, 'euy44': False, 'euy45': False, 'euy46': False, 'euy47': False}}\n"
     ]
    }
   ],
   "source": [
    "# read all outputs\n",
    "response = client.read_all_outputs()\n",
    "print(\"Outputs:\", response)"
   ]
  },
  {
   "cell_type": "code",
   "execution_count": 5,
   "id": "37962e55",
   "metadata": {},
   "outputs": [
    {
     "name": "stdout",
     "output_type": "stream",
     "text": [
      "Response: True\n"
     ]
    }
   ],
   "source": [
    "# Write an output\n",
    "response = client.write_output(\"y15\", False)\n",
    "print(\"Response:\", response)"
   ]
  },
  {
   "cell_type": "code",
   "execution_count": 18,
   "id": "313c876a",
   "metadata": {},
   "outputs": [
    {
     "name": "stdout",
     "output_type": "stream",
     "text": [
      "Response: {'800': 0, '801': 0, '802': 0, '803': 0, '804': 0, '805': 0, '806': 0, '807': 0}\n"
     ]
    }
   ],
   "source": [
    "# Read memory address\n",
    "response = client.read_memory_address(880, 8)\n",
    "print(\"Response:\", response)"
   ]
  },
  {
   "cell_type": "code",
   "execution_count": 13,
   "id": "d45b80ea",
   "metadata": {},
   "outputs": [
    {
     "name": "stdout",
     "output_type": "stream",
     "text": [
      "Response: True\n"
     ]
    }
   ],
   "source": [
    "# wrirte memory address\n",
    "response = client.write_memory_address(845, [-100, 15, 0, 0, 0, 56])\n",
    "print(\"Response:\", response)"
   ]
  }
 ],
 "metadata": {
  "kernelspec": {
   "display_name": "base",
   "language": "python",
   "name": "python3"
  },
  "language_info": {
   "codemirror_mode": {
    "name": "ipython",
    "version": 3
   },
   "file_extension": ".py",
   "mimetype": "text/x-python",
   "name": "python",
   "nbconvert_exporter": "python",
   "pygments_lexer": "ipython3",
   "version": "3.12.9"
  }
 },
 "nbformat": 4,
 "nbformat_minor": 5
}
